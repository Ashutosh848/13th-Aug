{
 "cells": [
  {
   "cell_type": "code",
   "execution_count": 3,
   "id": "8fdefd28-cc91-4b55-850d-3d36520786b5",
   "metadata": {},
   "outputs": [
    {
     "name": "stdin",
     "output_type": "stream",
     "text": [
      "Enter a value for creating faboncci:> 12\n"
     ]
    },
    {
     "name": "stdout",
     "output_type": "stream",
     "text": [
      "1,2,3,5,8,13,21,34,55,89,144,233,"
     ]
    }
   ],
   "source": [
    "n = int(input(\"Enter a value for creating faboncci:>\"))\n",
    "num1 = 0\n",
    "num2 = 1\n",
    "count = 1\n",
    "nxt_num = num2\n",
    "while(count<=n):\n",
    "    print(nxt_num,end= ',')\n",
    "    count+=1\n",
    "    num1,num2 = num2, nxt_num\n",
    "    nxt_num = num1 + num2\n"
   ]
  },
  {
   "cell_type": "code",
   "execution_count": null,
   "id": "cfcae292-0d39-483b-a1c5-b291836d41dc",
   "metadata": {},
   "outputs": [],
   "source": []
  }
 ],
 "metadata": {
  "kernelspec": {
   "display_name": "Python 3 (ipykernel)",
   "language": "python",
   "name": "python3"
  },
  "language_info": {
   "codemirror_mode": {
    "name": "ipython",
    "version": 3
   },
   "file_extension": ".py",
   "mimetype": "text/x-python",
   "name": "python",
   "nbconvert_exporter": "python",
   "pygments_lexer": "ipython3",
   "version": "3.11.7"
  }
 },
 "nbformat": 4,
 "nbformat_minor": 5
}
