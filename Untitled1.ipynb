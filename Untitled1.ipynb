{
 "cells": [
  {
   "cell_type": "code",
   "execution_count": 42,
   "id": "a98fde5a-4e69-4308-84db-9b4a0a9d354b",
   "metadata": {},
   "outputs": [
    {
     "name": "stdin",
     "output_type": "stream",
     "text": [
      "Enter the Value 10\n"
     ]
    },
    {
     "name": "stdout",
     "output_type": "stream",
     "text": [
      "1,2,3,4,5,6,7,8,9,10,"
     ]
    }
   ],
   "source": [
    "#wap to print the series of 1,2,3,...n\n",
    "n = int(input(\"Enter the Value\"))\n",
    "\n",
    "for i in range(1,n+1):\n",
    "    print(i,end = ',')"
   ]
  },
  {
   "cell_type": "code",
   "execution_count": 47,
   "id": "b91b36a7-67dd-4ff9-aad4-c93a0650b935",
   "metadata": {},
   "outputs": [
    {
     "name": "stdin",
     "output_type": "stream",
     "text": [
      "Enter the value 10\n"
     ]
    },
    {
     "name": "stdout",
     "output_type": "stream",
     "text": [
      "10,9,8,7,6,5,4,3,2,1,"
     ]
    }
   ],
   "source": [
    "#2. Write a program to print the series N,..3,2,1.\n",
    "n = int(input(\"Enter the value\"))\n",
    "\n",
    "for i in range(n,1-1,-1):\n",
    "    print(i,end = ',')"
   ]
  },
  {
   "cell_type": "code",
   "execution_count": 57,
   "id": "9ca51610-10f4-46dd-9087-fb2f40aafd9d",
   "metadata": {},
   "outputs": [
    {
     "name": "stdin",
     "output_type": "stream",
     "text": [
      "Enter a value for loop 10\n"
     ]
    },
    {
     "name": "stdout",
     "output_type": "stream",
     "text": [
      "1,4,9,16,25,36,49,64,81,100,"
     ]
    }
   ],
   "source": [
    "#3. Write a program to print the first N terms of the series 1,4,9,16.....\n",
    "n = int(input(\"Enter a value for loop\"))\n",
    "\n",
    "for i in range(1,n+1):\n",
    "    i=i**2\n",
    "    print(i,end = ',')"
   ]
  },
  {
   "cell_type": "code",
   "execution_count": 61,
   "id": "3fb10d4b-adfc-4ed9-9d12-fd098ef35b68",
   "metadata": {},
   "outputs": [
    {
     "name": "stdin",
     "output_type": "stream",
     "text": [
      "Enter the value for loop 10\n"
     ]
    },
    {
     "name": "stdout",
     "output_type": "stream",
     "text": [
      "1,8,27,64,125,216,343,512,729,1000,"
     ]
    }
   ],
   "source": [
    "#4. Write a program to print the first N terms of the series 1,8,27,64.....\n",
    "n = int(input(\"Enter the value for loop\"))\n",
    "\n",
    "for i in range(1,n+1):\n",
    "    i = i**3\n",
    "    print(i,end=',')"
   ]
  },
  {
   "cell_type": "code",
   "execution_count": 64,
   "id": "de3cf5aa-a6b4-44b7-b3f0-5400ff47dd9e",
   "metadata": {},
   "outputs": [
    {
     "name": "stdin",
     "output_type": "stream",
     "text": [
      "Enter a value: 10\n"
     ]
    },
    {
     "name": "stdout",
     "output_type": "stream",
     "text": [
      "1,3,5,7,9,"
     ]
    }
   ],
   "source": [
    "#5. Write a program to print the first N terms of the series 1,3,5,.....\n",
    "n = int(input(\"Enter a value:\"))\n",
    "\n",
    "for i in range(1,n+1,2):\n",
    "    print(i,end = ',')"
   ]
  },
  {
   "cell_type": "code",
   "execution_count": 68,
   "id": "33024c55-7c02-475e-a688-b147e680dc36",
   "metadata": {},
   "outputs": [
    {
     "name": "stdin",
     "output_type": "stream",
     "text": [
      "Enter the value 10\n"
     ]
    },
    {
     "name": "stdout",
     "output_type": "stream",
     "text": [
      "0,2,4,6,8,10,"
     ]
    }
   ],
   "source": [
    "#6. Write a program to print the first N terms of the series 0,2,4,.....\n",
    "n=int(input(\"Enter the value\"))\n",
    "\n",
    "for i in range(0,n+1,2):\n",
    "    print(i,end=',')\n",
    "    "
   ]
  },
  {
   "cell_type": "code",
   "execution_count": 74,
   "id": "dae1a1f9-2506-4ac1-a1ca-c537d844d9e9",
   "metadata": {},
   "outputs": [
    {
     "name": "stdin",
     "output_type": "stream",
     "text": [
      "Enter the Value 10\n"
     ]
    },
    {
     "name": "stdout",
     "output_type": "stream",
     "text": [
      "-1,1,-1,1,-1,1,-1,1,-1,1,"
     ]
    }
   ],
   "source": [
    "#7. Write a program to print the first N terms of the series 1,-1,1,-1,.....\n",
    "n =int(input(\"Enter the Value\"))\n",
    "\n",
    "for i in range(1,n+1):\n",
    "    if(i%2==0):\n",
    "        print(1,end=',')\n",
    "    else:\n",
    "        print(-1,end = ',')\n",
    "    \n",
    "    "
   ]
  },
  {
   "cell_type": "code",
   "execution_count": 75,
   "id": "d4d8daab-b5bc-4f5c-8dd6-e76cb5ba6ea4",
   "metadata": {},
   "outputs": [
    {
     "name": "stdin",
     "output_type": "stream",
     "text": [
      "Enter the Value 10\n"
     ]
    },
    {
     "name": "stdout",
     "output_type": "stream",
     "text": [
      "1,0,1,0,1,0,1,0,1,0,"
     ]
    }
   ],
   "source": [
    "#8. Write a program to print the first N terms of the series 1,0,1,0.....\n",
    "n=int(input(\"Enter the Value\"))\n",
    "\n",
    "for i in range(1,n+1):\n",
    "    if(i%2==0):\n",
    "        print(0,end = ',')\n",
    "    else:\n",
    "        print(1,end = ',')"
   ]
  },
  {
   "cell_type": "code",
   "execution_count": 4,
   "id": "faad6347-1910-4471-a0fb-fc4c9cf48e37",
   "metadata": {},
   "outputs": [
    {
     "name": "stdin",
     "output_type": "stream",
     "text": [
      "Enter a value--> 10\n"
     ]
    },
    {
     "name": "stdout",
     "output_type": "stream",
     "text": [
      "99\n",
      "999\n",
      "9999\n",
      "99999\n",
      "999999\n",
      "9999999\n",
      "99999999\n",
      "999999999\n",
      "9999999999\n",
      "99999999999\n"
     ]
    }
   ],
   "source": [
    "#10.Write a program to print the first N terms of the series 9,99,999,.....\n",
    "n = int(input(\"Enter a value-->\"))\n",
    "\n",
    "term = 9\n",
    "for i in range(n):\n",
    "    term = term*10+9\n",
    "    print(term)"
   ]
  },
  {
   "cell_type": "code",
   "execution_count": 8,
   "id": "dd480f4b-3500-435a-9ead-fd2f79635e18",
   "metadata": {},
   "outputs": [
    {
     "ename": "AttributeError",
     "evalue": "module 'os' has no attribute 'touch'",
     "output_type": "error",
     "traceback": [
      "\u001b[1;31m---------------------------------------------------------------------------\u001b[0m",
      "\u001b[1;31mAttributeError\u001b[0m                            Traceback (most recent call last)",
      "Cell \u001b[1;32mIn[8], line 4\u001b[0m\n\u001b[0;32m      2\u001b[0m os\u001b[38;5;241m.\u001b[39mchdir(\u001b[38;5;124m\"\u001b[39m\u001b[38;5;124mC://Users//delli//Downloads//New Folder\u001b[39m\u001b[38;5;124m\"\u001b[39m)\n\u001b[0;32m      3\u001b[0m os\u001b[38;5;241m.\u001b[39mmkdir(\u001b[38;5;124m\"\u001b[39m\u001b[38;5;124mNew Folder\u001b[39m\u001b[38;5;124m\"\u001b[39m)\n\u001b[1;32m----> 4\u001b[0m os\u001b[38;5;241m.\u001b[39mtouch(\u001b[38;5;124m\"\u001b[39m\u001b[38;5;124mnew.txt\u001b[39m\u001b[38;5;124m\"\u001b[39m)\n",
      "\u001b[1;31mAttributeError\u001b[0m: module 'os' has no attribute 'touch'"
     ]
    }
   ],
   "source": []
  },
  {
   "cell_type": "code",
   "execution_count": null,
   "id": "1b25da05-d232-403d-8b97-10fc46af6a04",
   "metadata": {},
   "outputs": [],
   "source": []
  }
 ],
 "metadata": {
  "kernelspec": {
   "display_name": "Python 3 (ipykernel)",
   "language": "python",
   "name": "python3"
  },
  "language_info": {
   "codemirror_mode": {
    "name": "ipython",
    "version": 3
   },
   "file_extension": ".py",
   "mimetype": "text/x-python",
   "name": "python",
   "nbconvert_exporter": "python",
   "pygments_lexer": "ipython3",
   "version": "3.11.7"
  }
 },
 "nbformat": 4,
 "nbformat_minor": 5
}
